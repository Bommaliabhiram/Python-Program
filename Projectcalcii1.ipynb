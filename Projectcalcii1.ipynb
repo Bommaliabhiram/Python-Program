{
  "nbformat": 4,
  "nbformat_minor": 0,
  "metadata": {
    "colab": {
      "provenance": []
    },
    "kernelspec": {
      "name": "python3",
      "display_name": "Python 3"
    },
    "language_info": {
      "name": "python"
    }
  },
  "cells": [
    {
      "cell_type": "markdown",
      "source": [
        "**Simple** **Calculater**"
      ],
      "metadata": {
        "id": "fS_lZKX-Sa-G"
      }
    },
    {
      "cell_type": "code",
      "execution_count": null,
      "metadata": {
        "colab": {
          "base_uri": "https://localhost:8080/"
        },
        "id": "T6yCWsIuSWvj",
        "outputId": "02bf85cc-66cc-48f6-872e-cedf6b9e2c22"
      },
      "outputs": [
        {
          "output_type": "stream",
          "name": "stdout",
          "text": [
            "Calculator Made By Abhiram:\n",
            "1.ADDITION\n",
            "2.SUBTRACTION\n",
            "3.MULTIPLICATION\n",
            "4.DIVISION\n",
            "Enter the Option1\n",
            "Enter the first number44\n",
            "Enter the second number44\n",
            "the sum is 88\n",
            "Calculator Made By Abhiram:\n",
            "1.ADDITION\n",
            "2.SUBTRACTION\n",
            "3.MULTIPLICATION\n",
            "4.DIVISION\n",
            "Enter the Option2\n",
            "Enter the first number33\n",
            "Enter the second number444\n",
            "the subtraction is -411\n",
            "Calculator Made By Abhiram:\n",
            "1.ADDITION\n",
            "2.SUBTRACTION\n",
            "3.MULTIPLICATION\n",
            "4.DIVISION\n"
          ]
        }
      ],
      "source": [
        "def ADDITION(x,y):\n",
        "    return x+y\n",
        "\n",
        "def subtract(x,y):\n",
        "    return x-y\n",
        "\n",
        "def multiply(x,y):\n",
        "    return x*y\n",
        "\n",
        "def division(x,y):\n",
        "    if y!=0:\n",
        "        return x/y\n",
        "    else:\n",
        "        return \"Error: Division by zero\"\n",
        "\n",
        "def simple_calculater():\n",
        "    print(\"Calculator Made By Abhiram:\")\n",
        "    print(\"1.ADDITION\")\n",
        "    print(\"2.SUBTRACTION\")\n",
        "    print(\"3.MULTIPLICATION\")\n",
        "    print(\"4.DIVISION\")\n",
        "    opt=int(input(\"Enter the Option\"))\n",
        "    a=int(input(\"Enter the first number\"))\n",
        "    b=int(input(\"Enter the second number\"))\n",
        "    if   opt==1:\n",
        "        print(\"the sum is\",ADDITION(a,b))\n",
        "    elif opt==2:\n",
        "        print(\"the subtraction is\",subtract(a,b))\n",
        "    elif opt==3:\n",
        "        print(\"the multiplication is\",multiply(a,b))\n",
        "    elif opt==4:\n",
        "        print(\"the division is\",division(a,b))\n",
        "    else:\n",
        "        print(\"Invalid Option\")\n",
        "    simple_calculater()\n",
        "    redo=input(\"do you want to do it again:(yes/no)\")\n",
        "    while redo==\"yes\":\n",
        "       if redo==\"yes\":\n",
        "          simple_calculater()\n",
        "          redo=input(\"Do You Want To Do It Again\")\n",
        "simple_calculater()\n",
        "\n",
        "\n",
        "\n"
      ]
    },
    {
      "cell_type": "code",
      "source": [],
      "metadata": {
        "id": "wiXrNCjMduxR"
      },
      "execution_count": null,
      "outputs": []
    }
  ]
}