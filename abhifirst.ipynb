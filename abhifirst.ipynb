{
  "nbformat": 4,
  "nbformat_minor": 0,
  "metadata": {
    "colab": {
      "provenance": []
    },
    "kernelspec": {
      "name": "python3",
      "display_name": "Python 3"
    },
    "language_info": {
      "name": "python"
    }
  },
  "cells": [
    {
      "cell_type": "code",
      "source": [
        "print(\"Hello,World\")"
      ],
      "metadata": {
        "colab": {
          "base_uri": "https://localhost:8080/"
        },
        "id": "VUEKBj71cb0g",
        "outputId": "8616427c-4c56-43d2-96f8-663be10100c5"
      },
      "execution_count": null,
      "outputs": [
        {
          "output_type": "stream",
          "name": "stdout",
          "text": [
            "Hello,World\n"
          ]
        }
      ]
    },
    {
      "cell_type": "code",
      "source": [
        "print(\"\"\"Abhiram\"\"\")"
      ],
      "metadata": {
        "colab": {
          "base_uri": "https://localhost:8080/"
        },
        "id": "vmSV2zJ7dKkm",
        "outputId": "0998e4d8-db9b-409a-f3be-1d787380d75a"
      },
      "execution_count": null,
      "outputs": [
        {
          "output_type": "stream",
          "name": "stdout",
          "text": [
            "Abhiram\n"
          ]
        }
      ]
    },
    {
      "cell_type": "code",
      "source": [
        "print(\"Abhiram\")"
      ],
      "metadata": {
        "colab": {
          "base_uri": "https://localhost:8080/"
        },
        "id": "Xo-vkfsFdX82",
        "outputId": "ff538c80-9946-4869-d8b1-a0d8036a91f9"
      },
      "execution_count": null,
      "outputs": [
        {
          "output_type": "stream",
          "name": "stdout",
          "text": [
            "Abhiram\n"
          ]
        }
      ]
    },
    {
      "cell_type": "code",
      "source": [
        "print(5)"
      ],
      "metadata": {
        "colab": {
          "base_uri": "https://localhost:8080/"
        },
        "id": "mHC__Ux5dvm2",
        "outputId": "dba7e654-04d2-435f-b01b-4a41133e9f7e"
      },
      "execution_count": null,
      "outputs": [
        {
          "output_type": "stream",
          "name": "stdout",
          "text": [
            "5\n"
          ]
        }
      ]
    },
    {
      "cell_type": "code",
      "source": [
        "print(999+888)"
      ],
      "metadata": {
        "colab": {
          "base_uri": "https://localhost:8080/"
        },
        "id": "EWncqf_ueZpt",
        "outputId": "9a1cb968-46ff-4512-a47d-625655cacb41"
      },
      "execution_count": null,
      "outputs": [
        {
          "output_type": "stream",
          "name": "stdout",
          "text": [
            "1887\n"
          ]
        }
      ]
    },
    {
      "cell_type": "code",
      "source": [
        "print(32537653639632568539865-6529875238975)"
      ],
      "metadata": {
        "colab": {
          "base_uri": "https://localhost:8080/"
        },
        "id": "_4EWVPpQegRd",
        "outputId": "4de2f464-ebb0-4657-da15-6888939d1e65"
      },
      "execution_count": null,
      "outputs": [
        {
          "output_type": "stream",
          "name": "stdout",
          "text": [
            "32537653633102693300890\n"
          ]
        }
      ]
    },
    {
      "cell_type": "code",
      "source": [
        "print('Hello world')\n",
        "print('Hello KGRCET')\n",
        "print('Welcome To Python Workshop')"
      ],
      "metadata": {
        "colab": {
          "base_uri": "https://localhost:8080/"
        },
        "id": "RflzQOmhlzxg",
        "outputId": "28be2427-0289-49eb-d124-9ac1a2027406"
      },
      "execution_count": null,
      "outputs": [
        {
          "output_type": "stream",
          "name": "stdout",
          "text": [
            "Hello world\n",
            "Hello KGRCET\n",
            "Welcome To Python Workshop\n"
          ]
        }
      ]
    },
    {
      "cell_type": "code",
      "source": [
        "name=input(\"Enter your name\")\n",
        "print(\"hello,\",name)"
      ],
      "metadata": {
        "colab": {
          "base_uri": "https://localhost:8080/"
        },
        "id": "dhhN3-AhmO_P",
        "outputId": "f244b58f-cac5-4827-9d2c-daf5320b36bb"
      },
      "execution_count": null,
      "outputs": [
        {
          "output_type": "stream",
          "name": "stdout",
          "text": [
            "Enter your nameabhi ram\n",
            "hello, abhi ram\n"
          ]
        }
      ]
    },
    {
      "cell_type": "code",
      "source": [
        "name=input('babu;')\n"
      ],
      "metadata": {
        "colab": {
          "base_uri": "https://localhost:8080/"
        },
        "collapsed": true,
        "id": "KYMZ1DBtm1Ew",
        "outputId": "1530e7e2-69be-4645-d5e4-a07a66138218"
      },
      "execution_count": null,
      "outputs": [
        {
          "name": "stdout",
          "output_type": "stream",
          "text": [
            "babu;maheshbabu\n"
          ]
        }
      ]
    },
    {
      "cell_type": "code",
      "source": [
        "roll=input(\"enter your number\")\n",
        "print(roll)"
      ],
      "metadata": {
        "colab": {
          "base_uri": "https://localhost:8080/"
        },
        "id": "xA-FXRs1nyfY",
        "outputId": "02c5d27a-3d0a-435b-e802-4f78850c7e09"
      },
      "execution_count": null,
      "outputs": [
        {
          "output_type": "stream",
          "name": "stdout",
          "text": [
            "enter your number24QM1A6621\n",
            "24QM1A6621\n"
          ]
        }
      ]
    },
    {
      "cell_type": "code",
      "source": [
        "print(\"ENTER THE NUMBER\")\n",
        "a=int(input('enter the first number'))\n",
        "b=int(input('enter the second number'))\n",
        "print(a+b\n",
        "      )"
      ],
      "metadata": {
        "colab": {
          "base_uri": "https://localhost:8080/"
        },
        "id": "pT5DVfa3pOVW",
        "outputId": "308f8d7c-afb7-48ba-ab51-431d92f9f653"
      },
      "execution_count": null,
      "outputs": [
        {
          "output_type": "stream",
          "name": "stdout",
          "text": [
            "ENTER THE NUMBER\n",
            "enter the first number9\n",
            "enter the second number7\n",
            "16\n"
          ]
        }
      ]
    },
    {
      "cell_type": "code",
      "source": [
        "print('enter the name')\n",
        "a=input('enter the first name')\n",
        "b=input('enter the second name')\n",
        "print(a+b)\n",
        "\n"
      ],
      "metadata": {
        "colab": {
          "base_uri": "https://localhost:8080/"
        },
        "id": "GBOc1nyLqi-1",
        "outputId": "7119bc13-884e-4a6e-d188-0420a62332ed"
      },
      "execution_count": null,
      "outputs": [
        {
          "output_type": "stream",
          "name": "stdout",
          "text": [
            "enter the name\n",
            "enter the first name I Love My\n",
            "enter the second name INDIA\n",
            " I Love My INDIA\n"
          ]
        }
      ]
    },
    {
      "cell_type": "code",
      "source": [
        "_import='This is import variable'\n",
        "print(_import)"
      ],
      "metadata": {
        "colab": {
          "base_uri": "https://localhost:8080/"
        },
        "id": "SzdhSDdYr2ad",
        "outputId": "6be4e315-8d94-4519-da53-51d3964d17c3"
      },
      "execution_count": null,
      "outputs": [
        {
          "output_type": "stream",
          "name": "stdout",
          "text": [
            "This is import variable\n"
          ]
        }
      ]
    },
    {
      "cell_type": "code",
      "source": [
        "emp_salary=100000\n",
        "print(emp_salary)"
      ],
      "metadata": {
        "colab": {
          "base_uri": "https://localhost:8080/"
        },
        "id": "Xx1FEePZsKMM",
        "outputId": "a6e74090-14dc-435d-f54d-5a21f153e615"
      },
      "execution_count": null,
      "outputs": [
        {
          "output_type": "stream",
          "name": "stdout",
          "text": [
            "100000\n"
          ]
        }
      ]
    },
    {
      "cell_type": "code",
      "source": [
        "x=999\n",
        "print(x)"
      ],
      "metadata": {
        "colab": {
          "base_uri": "https://localhost:8080/"
        },
        "id": "X6wz_FkntK5M",
        "outputId": "3568e761-7675-43f8-cf32-9120cd6ccaa9"
      },
      "execution_count": null,
      "outputs": [
        {
          "output_type": "stream",
          "name": "stdout",
          "text": [
            "999\n"
          ]
        }
      ]
    },
    {
      "cell_type": "code",
      "source": [
        "x=\"KGRCET\"\n",
        "print(x)"
      ],
      "metadata": {
        "colab": {
          "base_uri": "https://localhost:8080/"
        },
        "id": "GPGuDYc5tbfT",
        "outputId": "5f3fa343-70f7-4dc8-cdc7-42392fe5cbd8"
      },
      "execution_count": null,
      "outputs": [
        {
          "output_type": "stream",
          "name": "stdout",
          "text": [
            "KGRCET\n"
          ]
        }
      ]
    },
    {
      "cell_type": "code",
      "source": [
        "import numpy\n",
        "matrix1=[1,2,3],[2,3,4]\n",
        "matrix2=[3,4,5],[5,6,7]\n",
        "add=numpy.add(matrix1,matrix2)\n",
        "print(add)"
      ],
      "metadata": {
        "colab": {
          "base_uri": "https://localhost:8080/"
        },
        "id": "op9GnfAN6xJ7",
        "outputId": "fdfd12dd-6c28-429f-f5ce-82fd1797373b"
      },
      "execution_count": null,
      "outputs": [
        {
          "output_type": "stream",
          "name": "stdout",
          "text": [
            "[[ 4  6  8]\n",
            " [ 7  9 11]]\n"
          ]
        }
      ]
    },
    {
      "cell_type": "code",
      "source": [
        "print(\"iam \"+ str(19)  +  ' year old')"
      ],
      "metadata": {
        "colab": {
          "base_uri": "https://localhost:8080/"
        },
        "id": "hfRvn7hw7_GD",
        "outputId": "91af2d60-2d55-4614-856f-91336f577388"
      },
      "execution_count": null,
      "outputs": [
        {
          "output_type": "stream",
          "name": "stdout",
          "text": [
            "iam 19 year old\n"
          ]
        }
      ]
    },
    {
      "cell_type": "markdown",
      "source": [
        "## Age program"
      ],
      "metadata": {
        "id": "GW_8nX9i8ekL"
      }
    },
    {
      "cell_type": "code",
      "source": [
        "a=100\n",
        "A=\"KGRCET\"\n",
        "print(a,A)\n"
      ],
      "metadata": {
        "colab": {
          "base_uri": "https://localhost:8080/"
        },
        "id": "0aF058uh9M3j",
        "outputId": "b5c9a742-1e5b-4a63-fe39-5d8fb31735ca"
      },
      "execution_count": null,
      "outputs": [
        {
          "output_type": "stream",
          "name": "stdout",
          "text": [
            "100 KGRCET\n"
          ]
        }
      ]
    },
    {
      "cell_type": "code",
      "source": [
        "x=5\n",
        "y='KGR'\n",
        "print(x)\n",
        "print(y)"
      ],
      "metadata": {
        "colab": {
          "base_uri": "https://localhost:8080/"
        },
        "id": "7kvZhBHW9gJo",
        "outputId": "22a80330-9c92-44cf-9940-fc8254f9f24b"
      },
      "execution_count": null,
      "outputs": [
        {
          "output_type": "stream",
          "name": "stdout",
          "text": [
            "5\n",
            "KGR\n"
          ]
        }
      ]
    },
    {
      "cell_type": "code",
      "source": [
        "X=5\n",
        "x='hello'\n",
        "print(x)"
      ],
      "metadata": {
        "colab": {
          "base_uri": "https://localhost:8080/"
        },
        "id": "-XBJl1dB9uKx",
        "outputId": "2857fe4d-5b49-4095-a7f3-c6fe28b0695f"
      },
      "execution_count": null,
      "outputs": [
        {
          "output_type": "stream",
          "name": "stdout",
          "text": [
            "hello\n"
          ]
        }
      ]
    },
    {
      "cell_type": "code",
      "source": [
        "x=' python '\n",
        "y=' is '\n",
        "z=' awesome '\n",
        "print( x       + y         + z          )"
      ],
      "metadata": {
        "colab": {
          "base_uri": "https://localhost:8080/"
        },
        "id": "WV05D3PC98ph",
        "outputId": "5b703b34-5714-4d45-887b-d0310ecdc56c"
      },
      "execution_count": null,
      "outputs": [
        {
          "output_type": "stream",
          "name": "stdout",
          "text": [
            " python  is  awesome \n"
          ]
        }
      ]
    },
    {
      "cell_type": "code",
      "source": [
        "x='python'\n",
        "y='is'\n",
        "z='awesome'\n",
        "print(x,y,z)"
      ],
      "metadata": {
        "colab": {
          "base_uri": "https://localhost:8080/"
        },
        "id": "xVewKS7O-dno",
        "outputId": "9b6d66ce-d661-4e04-8d28-0c0d53d1bc4e"
      },
      "execution_count": null,
      "outputs": [
        {
          "output_type": "stream",
          "name": "stdout",
          "text": [
            "python is awesome\n"
          ]
        }
      ]
    },
    {
      "cell_type": "code",
      "source": [
        "x=500\n",
        "y='kgr'\n",
        "print(x,y)"
      ],
      "metadata": {
        "colab": {
          "base_uri": "https://localhost:8080/"
        },
        "id": "aBvGIxyE_I0A",
        "outputId": "84afa616-ef50-4883-e7d8-b8c7bf9b5512"
      },
      "execution_count": null,
      "outputs": [
        {
          "output_type": "stream",
          "name": "stdout",
          "text": [
            "500 kgr\n"
          ]
        }
      ]
    },
    {
      "cell_type": "code",
      "source": [
        "x,y=2,3\n",
        "print(x)"
      ],
      "metadata": {
        "colab": {
          "base_uri": "https://localhost:8080/"
        },
        "id": "pFDgy0Xb_OLh",
        "outputId": "61b4522d-8a70-447e-ae33-af6ebd148e5f"
      },
      "execution_count": null,
      "outputs": [
        {
          "output_type": "stream",
          "name": "stdout",
          "text": [
            "2\n"
          ]
        }
      ]
    },
    {
      "cell_type": "code",
      "source": [
        "x=y=z='python'\n",
        "print(x)"
      ],
      "metadata": {
        "colab": {
          "base_uri": "https://localhost:8080/"
        },
        "id": "mh_Oz3gB_j6_",
        "outputId": "8a05f3ac-78dc-4e10-c2e0-99878d416f21"
      },
      "execution_count": null,
      "outputs": [
        {
          "output_type": "stream",
          "name": "stdout",
          "text": [
            "python\n"
          ]
        }
      ]
    },
    {
      "cell_type": "code",
      "source": [],
      "metadata": {
        "id": "gcxF_oCS_wCQ"
      },
      "execution_count": null,
      "outputs": []
    },
    {
      "cell_type": "markdown",
      "source": [
        "# swapping **numbers**"
      ],
      "metadata": {
        "id": "CfkZHS-1_xaM"
      }
    },
    {
      "cell_type": "code",
      "source": [
        "x,y=2,3\n",
        "print(x,y)\n",
        "y,x=x,y\n",
        "print(x,y)"
      ],
      "metadata": {
        "colab": {
          "base_uri": "https://localhost:8080/"
        },
        "id": "1-kzaXT6_0in",
        "outputId": "3ce99e85-b5ba-40a3-abb1-08862e7fb2b5"
      },
      "execution_count": null,
      "outputs": [
        {
          "output_type": "stream",
          "name": "stdout",
          "text": [
            "2 3\n",
            "3 2\n"
          ]
        }
      ]
    },
    {
      "cell_type": "code",
      "source": [
        "a=21\n",
        "b=13\n",
        "c=a+b\n",
        "print(c)"
      ],
      "metadata": {
        "colab": {
          "base_uri": "https://localhost:8080/"
        },
        "id": "BZrnrc89AFrA",
        "outputId": "11068a69-5fcb-4c2d-b30c-9f7d9224accc"
      },
      "execution_count": null,
      "outputs": [
        {
          "output_type": "stream",
          "name": "stdout",
          "text": [
            "34\n"
          ]
        }
      ]
    },
    {
      "cell_type": "code",
      "source": [],
      "metadata": {
        "colab": {
          "base_uri": "https://localhost:8080/"
        },
        "id": "oGMCIFEWBNKm",
        "outputId": "c2f99d3a-a730-489c-b3d8-d74819779612"
      },
      "execution_count": null,
      "outputs": [
        {
          "output_type": "stream",
          "name": "stdout",
          "text": [
            "orangr banana cherry\n"
          ]
        }
      ]
    },
    {
      "cell_type": "code",
      "source": [
        "x=y=z='orange'\n",
        "print(x,y,z)"
      ],
      "metadata": {
        "colab": {
          "base_uri": "https://localhost:8080/"
        },
        "id": "AM45m6DTBdJ1",
        "outputId": "3e23f1d9-251b-4ddc-ccb3-10a646f80701"
      },
      "execution_count": null,
      "outputs": [
        {
          "output_type": "stream",
          "name": "stdout",
          "text": [
            "orange orange orange\n"
          ]
        }
      ]
    },
    {
      "cell_type": "code",
      "source": [
        "x=y=z='orange'\n",
        "print(x,y,z)\n",
        "print(type(x))"
      ],
      "metadata": {
        "colab": {
          "base_uri": "https://localhost:8080/"
        },
        "id": "87y7nZgJBlhn",
        "outputId": "3fd23a04-50b4-4c5f-cb8f-9d95e2b65971"
      },
      "execution_count": null,
      "outputs": [
        {
          "output_type": "stream",
          "name": "stdout",
          "text": [
            "orange orange orange\n",
            "<class 'str'>\n"
          ]
        }
      ]
    },
    {
      "cell_type": "code",
      "source": [
        "x=str(3)\n",
        "y=int(3)\n",
        "z=float(3)\n",
        "print(x,y,z)\n",
        "print(type(x),type(y),type(z))"
      ],
      "metadata": {
        "colab": {
          "base_uri": "https://localhost:8080/"
        },
        "id": "EwZjxNt8B86t",
        "outputId": "ce6f780e-a447-466e-9248-64eef4e6b1b8"
      },
      "execution_count": null,
      "outputs": [
        {
          "output_type": "stream",
          "name": "stdout",
          "text": [
            "3 3 3.0\n",
            "<class 'str'> <class 'int'> <class 'float'>\n"
          ]
        }
      ]
    },
    {
      "cell_type": "code",
      "source": [
        "x=True\n",
        "print(x)\n",
        "print(type(c))"
      ],
      "metadata": {
        "colab": {
          "base_uri": "https://localhost:8080/"
        },
        "id": "2pfcTdsrCoYQ",
        "outputId": "a76f2358-daee-488f-f081-3fefd5db4f7d"
      },
      "execution_count": null,
      "outputs": [
        {
          "output_type": "stream",
          "name": "stdout",
          "text": [
            "True\n",
            "<class 'int'>\n"
          ]
        }
      ]
    },
    {
      "cell_type": "code",
      "source": [
        "a=5+2j\n",
        "print(type(a))"
      ],
      "metadata": {
        "colab": {
          "base_uri": "https://localhost:8080/"
        },
        "id": "R1rrii_JG5Hi",
        "outputId": "0706a8c7-d225-48bc-df8f-160002a597e5"
      },
      "execution_count": null,
      "outputs": [
        {
          "output_type": "stream",
          "name": "stdout",
          "text": [
            "<class 'complex'>\n"
          ]
        }
      ]
    },
    {
      "cell_type": "code",
      "source": [
        "s=\"welcome to python\"\n",
        "print(s)\n",
        "print(type(s))\n",
        "print(s[9])\n",
        "print(s[2])\n",
        "print(s[4])"
      ],
      "metadata": {
        "colab": {
          "base_uri": "https://localhost:8080/"
        },
        "id": "EbfTTb1_HOEG",
        "outputId": "26dc52f7-ab7e-4dce-eb4c-c6fcf83a4f5b"
      },
      "execution_count": null,
      "outputs": [
        {
          "output_type": "stream",
          "name": "stdout",
          "text": [
            "welcome to python\n",
            "<class 'str'>\n",
            "o\n",
            "l\n",
            "o\n"
          ]
        }
      ]
    },
    {
      "cell_type": "code",
      "source": [
        "s='my name is kgr'\n",
        "print(s)\n",
        "print(type(s))\n",
        "print(s[1])"
      ],
      "metadata": {
        "colab": {
          "base_uri": "https://localhost:8080/"
        },
        "id": "n6OF8TpgIhdb",
        "outputId": "540a8d75-bdad-4a5f-c04d-07c36315e254"
      },
      "execution_count": null,
      "outputs": [
        {
          "output_type": "stream",
          "name": "stdout",
          "text": [
            "my name is kgr\n",
            "<class 'str'>\n",
            "y\n"
          ]
        }
      ]
    },
    {
      "cell_type": "code",
      "source": [
        "a='hello'\n",
        "b=' world'\n",
        "print(a+b)"
      ],
      "metadata": {
        "colab": {
          "base_uri": "https://localhost:8080/"
        },
        "id": "X9KrjdmAKmg_",
        "outputId": "7f216697-be56-443b-89e5-7a486e56bc17"
      },
      "execution_count": null,
      "outputs": [
        {
          "output_type": "stream",
          "name": "stdout",
          "text": [
            "hello world\n"
          ]
        }
      ]
    },
    {
      "cell_type": "code",
      "source": [
        "string_one= 'iam studying'\n",
        "string_two= ' in first year'\n",
        "print(string_one+string_two)"
      ],
      "metadata": {
        "colab": {
          "base_uri": "https://localhost:8080/"
        },
        "id": "V2j-tNf9Kzux",
        "outputId": "92f4c571-1eb1-4dbd-f558-7c9f032fdef2"
      },
      "execution_count": null,
      "outputs": [
        {
          "output_type": "stream",
          "name": "stdout",
          "text": [
            "iam studying in first year\n"
          ]
        }
      ]
    },
    {
      "cell_type": "code",
      "source": [
        "a=\"iam stu\n",
        "dy\"\n",
        "b=\" kgr\"\n",
        "print(a+  str\n",
        " (  2)+b)"
      ],
      "metadata": {
        "colab": {
          "base_uri": "https://localhost:8080/"
        },
        "id": "SLUBpEt1LhC3",
        "outputId": "19b97e29-02e1-4cfa-e47a-26fe5c0df236"
      },
      "execution_count": null,
      "outputs": [
        {
          "output_type": "stream",
          "name": "stdout",
          "text": [
            "iam study2 kgr\n"
          ]
        }
      ]
    },
    {
      "cell_type": "code",
      "source": [
        "print(' abhi'*9\n",
        "\n",
        "      )"
      ],
      "metadata": {
        "colab": {
          "base_uri": "https://localhost:8080/"
        },
        "id": "-nfuoCtBMDo2",
        "outputId": "141b76a7-a74b-4ea9-937c-583cbfea6c47"
      },
      "execution_count": null,
      "outputs": [
        {
          "output_type": "stream",
          "name": "stdout",
          "text": [
            " abhi abhi abhi abhi abhi abhi abhi abhi abhi\n"
          ]
        }
      ]
    },
    {
      "cell_type": "code",
      "source": [
        "a=[]\n",
        "a=[1,2,3]\n",
        "print(a)\n",
        "b=['abhi','bye','python',4 ,9,5,a]\n",
        "print(b)"
      ],
      "metadata": {
        "id": "BysVrH8NMjd2",
        "colab": {
          "base_uri": "https://localhost:8080/"
        },
        "outputId": "b3db58a0-c3ba-405b-d08d-b3170ce84108"
      },
      "execution_count": null,
      "outputs": [
        {
          "output_type": "stream",
          "name": "stdout",
          "text": [
            "[1, 2, 3]\n",
            "['abhi', 'bye', 'python', 4, 9, 5, [1, 2, 3]]\n"
          ]
        }
      ]
    },
    {
      "cell_type": "markdown",
      "source": [
        "a=['python',3,'is','very','easy']\n",
        "print('acessing list of 3')\n",
        "print(a)"
      ],
      "metadata": {
        "id": "VYwk2SR7Y7I1"
      }
    },
    {
      "cell_type": "markdown",
      "source": [
        "a[0:3]"
      ],
      "metadata": {
        "id": "nDhoFFcpaQEU"
      }
    },
    {
      "cell_type": "code",
      "source": [
        "a[-1:-3]"
      ],
      "metadata": {
        "colab": {
          "base_uri": "https://localhost:8080/"
        },
        "id": "0nxqMCJ5auoc",
        "outputId": "b266f40d-ad40-4863-859d-a21af2d3c699"
      },
      "execution_count": null,
      "outputs": [
        {
          "output_type": "execute_result",
          "data": {
            "text/plain": [
              "[]"
            ]
          },
          "metadata": {},
          "execution_count": 108
        }
      ]
    },
    {
      "cell_type": "code",
      "source": [
        "a[-3:-1]"
      ],
      "metadata": {
        "colab": {
          "base_uri": "https://localhost:8080/"
        },
        "id": "8cB_ngB0a8gl",
        "outputId": "6e0cba5b-4c37-4e07-b26c-57dad7529cc2"
      },
      "execution_count": null,
      "outputs": [
        {
          "output_type": "execute_result",
          "data": {
            "text/plain": [
              "['is', 'very']"
            ]
          },
          "metadata": {},
          "execution_count": 111
        }
      ]
    },
    {
      "cell_type": "code",
      "source": [
        "b=['kgr',1,2,3]\n",
        "print(b)"
      ],
      "metadata": {
        "colab": {
          "base_uri": "https://localhost:8080/"
        },
        "id": "5avTkTuZbZUi",
        "outputId": "8608dad2-d3e0-41c6-ca9f-6ed16be20597"
      },
      "execution_count": null,
      "outputs": [
        {
          "output_type": "stream",
          "name": "stdout",
          "text": [
            "['kgr', 1, 2, 3]\n"
          ]
        }
      ]
    },
    {
      "cell_type": "code",
      "source": [
        "abhi_list=[2,3,48,5]\n",
        "abhi_list.sort()\n",
        "abhi_list"
      ],
      "metadata": {
        "colab": {
          "base_uri": "https://localhost:8080/"
        },
        "id": "p1S9AwsZbzvo",
        "outputId": "b1c763ba-269c-44f4-86aa-5265ded3115f"
      },
      "execution_count": null,
      "outputs": [
        {
          "output_type": "execute_result",
          "data": {
            "text/plain": [
              "[2, 3, 5, 48]"
            ]
          },
          "metadata": {},
          "execution_count": 117
        }
      ]
    },
    {
      "cell_type": "code",
      "source": [
        "min(abhi_list)"
      ],
      "metadata": {
        "colab": {
          "base_uri": "https://localhost:8080/"
        },
        "id": "NKoU0AH9cjwK",
        "outputId": "42c83df8-a7c7-49a9-c8a7-2abd55d9803b"
      },
      "execution_count": null,
      "outputs": [
        {
          "output_type": "execute_result",
          "data": {
            "text/plain": [
              "2"
            ]
          },
          "metadata": {},
          "execution_count": 119
        }
      ]
    },
    {
      "cell_type": "code",
      "source": [
        "beta_list=[\"apple\",'banana','orange']\n",
        "beta_list.append(\"grape\")\n",
        "print(beta_list)"
      ],
      "metadata": {
        "colab": {
          "base_uri": "https://localhost:8080/"
        },
        "id": "Jxirl891cwrq",
        "outputId": "181d9a76-a31b-4859-a7ac-bff425c1b7a0"
      },
      "execution_count": null,
      "outputs": [
        {
          "output_type": "stream",
          "name": "stdout",
          "text": [
            "['apple', 'banana', 'orange', 'grape']\n"
          ]
        }
      ]
    },
    {
      "cell_type": "code",
      "source": [
        "beta_list=[\"apple\",'banana','orange']\n",
        "beta_list.insert(-2,\"grape\")\n",
        "print(beta_list)"
      ],
      "metadata": {
        "colab": {
          "base_uri": "https://localhost:8080/"
        },
        "id": "x9DxMXNxdsMB",
        "outputId": "be0d46cf-94d6-45ec-f483-a096a8f2dded"
      },
      "execution_count": null,
      "outputs": [
        {
          "output_type": "stream",
          "name": "stdout",
          "text": [
            "['apple', 'grape', 'banana', 'orange']\n"
          ]
        }
      ]
    },
    {
      "cell_type": "code",
      "source": [
        "beta_list=[\"apple\",'banana','orange']\n",
        "beta_list.remove(\"banana\")\n",
        "print(beta_list)"
      ],
      "metadata": {
        "colab": {
          "base_uri": "https://localhost:8080/"
        },
        "id": "3FyT1F26eIB5",
        "outputId": "7669d8d0-c2af-45df-f38d-755b26386027"
      },
      "execution_count": null,
      "outputs": [
        {
          "output_type": "stream",
          "name": "stdout",
          "text": [
            "['apple', 'orange']\n"
          ]
        }
      ]
    },
    {
      "cell_type": "code",
      "source": [
        "beta_list=[\"apple\",'banana','orange']\n",
        "beta_list.pop()\n",
        "print(beta_list)"
      ],
      "metadata": {
        "colab": {
          "base_uri": "https://localhost:8080/"
        },
        "id": "4sFKQejPe30I",
        "outputId": "dfe38745-dde2-4a16-b45f-fe1e1f38d4fc"
      },
      "execution_count": null,
      "outputs": [
        {
          "output_type": "stream",
          "name": "stdout",
          "text": [
            "['apple', 'banana']\n"
          ]
        }
      ]
    },
    {
      "cell_type": "code",
      "source": [
        "beta_list=[\"apple\",'banana','orange']\n",
        "del beta_list[2]\n",
        "print(beta_list)"
      ],
      "metadata": {
        "colab": {
          "base_uri": "https://localhost:8080/"
        },
        "id": "yqYRo8ljfcIw",
        "outputId": "4fb87239-31a8-4036-bfb5-5336578369bf"
      },
      "execution_count": null,
      "outputs": [
        {
          "output_type": "stream",
          "name": "stdout",
          "text": [
            "['apple', 'banana']\n"
          ]
        }
      ]
    }
  ]
}