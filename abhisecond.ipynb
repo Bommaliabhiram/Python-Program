{
  "nbformat": 4,
  "nbformat_minor": 0,
  "metadata": {
    "colab": {
      "provenance": []
    },
    "kernelspec": {
      "name": "python3",
      "display_name": "Python 3"
    },
    "language_info": {
      "name": "python"
    }
  },
  "cells": [
    {
      "cell_type": "code",
      "execution_count": 4,
      "metadata": {
        "colab": {
          "base_uri": "https://localhost:8080/"
        },
        "id": "1Cm92lU9YEXW",
        "outputId": "1d5e4444-0399-4fc5-fafb-ef7a26bf4b6e"
      },
      "outputs": [
        {
          "output_type": "stream",
          "name": "stdout",
          "text": [
            "addition 5\n"
          ]
        }
      ],
      "source": [
        "a=2\n",
        "b=3\n",
        "print('addition',a+b)"
      ]
    },
    {
      "cell_type": "markdown",
      "source": [
        "operators"
      ],
      "metadata": {
        "id": "nrO0SFd4ftsN"
      }
    },
    {
      "cell_type": "code",
      "source": [
        "a=4\n",
        "\n",
        "b=7\n",
        "\n",
        "print(a-b)"
      ],
      "metadata": {
        "colab": {
          "base_uri": "https://localhost:8080/"
        },
        "id": "lHSN4e5ef8Mr",
        "outputId": "30616aaf-d359-4415-c925-31cebe883393"
      },
      "execution_count": 5,
      "outputs": [
        {
          "output_type": "stream",
          "name": "stdout",
          "text": [
            "-3\n"
          ]
        }
      ]
    },
    {
      "cell_type": "code",
      "source": [
        "a-b"
      ],
      "metadata": {
        "colab": {
          "base_uri": "https://localhost:8080/"
        },
        "id": "Qf0sWzONgTiU",
        "outputId": "be57b1d8-5908-4062-9cff-e49b2a44239a"
      },
      "execution_count": 6,
      "outputs": [
        {
          "output_type": "execute_result",
          "data": {
            "text/plain": [
              "-3"
            ]
          },
          "metadata": {},
          "execution_count": 6
        }
      ]
    },
    {
      "cell_type": "code",
      "source": [
        "print(\"multiplication\"+str(a*b)"
      ],
      "metadata": {
        "colab": {
          "base_uri": "https://localhost:8080/",
          "height": 106
        },
        "id": "0nmC5X2wgWOr",
        "outputId": "459e547f-58de-41cd-bfa7-322aa1226e8b"
      },
      "execution_count": 10,
      "outputs": [
        {
          "output_type": "error",
          "ename": "SyntaxError",
          "evalue": "incomplete input (<ipython-input-10-60138e615703>, line 1)",
          "traceback": [
            "\u001b[0;36m  File \u001b[0;32m\"<ipython-input-10-60138e615703>\"\u001b[0;36m, line \u001b[0;32m1\u001b[0m\n\u001b[0;31m    print(\"multiplication\"+str(a*b)\u001b[0m\n\u001b[0m                                   ^\u001b[0m\n\u001b[0;31mSyntaxError\u001b[0m\u001b[0;31m:\u001b[0m incomplete input\n"
          ]
        }
      ]
    },
    {
      "cell_type": "code",
      "source": [
        "a/b\n"
      ],
      "metadata": {
        "colab": {
          "base_uri": "https://localhost:8080/"
        },
        "id": "vuKjLuNPgomj",
        "outputId": "d8f2061e-02ef-44a2-eb89-db27a5d1c2a7"
      },
      "execution_count": 9,
      "outputs": [
        {
          "output_type": "execute_result",
          "data": {
            "text/plain": [
              "0.5714285714285714"
            ]
          },
          "metadata": {},
          "execution_count": 9
        }
      ]
    },
    {
      "cell_type": "code",
      "source": [
        "a=999\n",
        "b=899"
      ],
      "metadata": {
        "id": "nIu84XxagvWM"
      },
      "execution_count": 11,
      "outputs": []
    },
    {
      "cell_type": "code",
      "source": [
        "a//b"
      ],
      "metadata": {
        "colab": {
          "base_uri": "https://localhost:8080/"
        },
        "id": "mTzm2F7Dg8GU",
        "outputId": "81cd7b27-f836-4c40-e7b9-60cd58a4b258"
      },
      "execution_count": 12,
      "outputs": [
        {
          "output_type": "execute_result",
          "data": {
            "text/plain": [
              "1"
            ]
          },
          "metadata": {},
          "execution_count": 12
        }
      ]
    },
    {
      "cell_type": "code",
      "source": [
        "a%b"
      ],
      "metadata": {
        "colab": {
          "base_uri": "https://localhost:8080/"
        },
        "id": "KFnlqCO7hCZz",
        "outputId": "78f6d1ab-896f-4459-e4a4-f32babcc1163"
      },
      "execution_count": 13,
      "outputs": [
        {
          "output_type": "execute_result",
          "data": {
            "text/plain": [
              "100"
            ]
          },
          "metadata": {},
          "execution_count": 13
        }
      ]
    },
    {
      "cell_type": "code",
      "source": [
        "  a*b"
      ],
      "metadata": {
        "colab": {
          "base_uri": "https://localhost:8080/"
        },
        "id": "HmGSDpG0hEfq",
        "outputId": "5e5ed1c7-31ed-45cf-9cfc-aca46855d12b"
      },
      "execution_count": 15,
      "outputs": [
        {
          "output_type": "execute_result",
          "data": {
            "text/plain": [
              "898101"
            ]
          },
          "metadata": {},
          "execution_count": 15
        }
      ]
    },
    {
      "cell_type": "code",
      "source": [
        "a**b"
      ],
      "metadata": {
        "colab": {
          "base_uri": "https://localhost:8080/"
        },
        "id": "4WgONqVwhUZC",
        "outputId": "ae2a1ed9-27cd-4684-9fb6-0ecee240dfeb"
      },
      "execution_count": 16,
      "outputs": [
        {
          "output_type": "execute_result",
          "data": {
            "text/plain": [
              "406793415961165695507240614793859993175123339901630111353741209111017560121961629981711542959590713684224511181605420778405688314856845734852308684619876570645502634762736053479956296713250820497816924555642859646902472395584376725022287337685554383271478031291520458424742471637561262316494377757141282087464981628725320986901984311641478955359098807765757682713533904711123129083480357213912704383056844569564796102034735801526818827705791052151532184346814096535957994616680621725794918325839618215432058303749044252868114317404530252744522915479623552117035766424807141192252248989587939182204879648359599587134713148462632461427123384243944816352133377762185115676387064004980564647387335876663974668556886926319888638173451826067009144934503360872320530044199426015870243259139663399326536013283940195722566777719376087328687706017973867289988803255055085969284572266087238467221317332084218607748879210902879691956873944262513945642677714515010274998974720729224089682727015676596774116876791015571480328008734279717794516030031404967541445733617042047990799947564062197310946627746097792952859494926538396754227743009803990148471297519074274159101883240308746467672300249805995416537957978067243326406036071959047750084531893539493867769902112426800502607743117832543677784091190498090030686897702256213698888685948776902927388999620926661237613064687633330024059090999655186242865808538966467803855352666305223323498326906230646839121364120768398176407796922003994095638929189082413018069382586518647456623459256108572799511267868326395784564243623922563073542740795662833171888555318184334368781850503358363477835679860822513617691862739733079777459873700861786684859284932819137214571111343527320383014671382926283439557928322814254177173305190424922796003624323896641692112451636654749398990667080225502328902398031373119111021511586819294385458886375129115312428247520894460756141038932527562893373174733191860372885625607187914009205056546005175426342521366671003235537070785323064449984920470934260948452879986080601302806635502321717274326278000752617112046329192216277155701308785029949985188663625438728229464765460108236874593106037595602373320221500218418420642419150206845564916494381779677636000667296077774281185579120859893886622867644572670605351218230615441572843837577635717299747200027509067888376429324491440610783319105348190289842833544373745284413639885196526243242027014957635171336082596384765404162965956766306989350954165120966369022313169354833612793397436009207549005019725955382678902581025746780263927965168775410254479969193235668293276309886668642032281352769827214941693740405864543983972808928279727385038892560064854013523927349742027495315245349898999"
            ]
          },
          "metadata": {},
          "execution_count": 16
        }
      ]
    },
    {
      "cell_type": "code",
      "source": [
        "d=7425\n",
        "s=550\n",
        "t=d/s\n",
        "print(t)"
      ],
      "metadata": {
        "colab": {
          "base_uri": "https://localhost:8080/"
        },
        "id": "DSteRDI0hkTC",
        "outputId": "d6bf4e27-0919-4c17-cbed-08b44b516364"
      },
      "execution_count": 18,
      "outputs": [
        {
          "output_type": "stream",
          "name": "stdout",
          "text": [
            "13.5\n"
          ]
        }
      ]
    },
    {
      "cell_type": "code",
      "source": [
        "50/100*50"
      ],
      "metadata": {
        "colab": {
          "base_uri": "https://localhost:8080/"
        },
        "id": "q2zrvohiiXuh",
        "outputId": "457af04f-f5ab-4e3c-ba5f-78dfb7951c5f"
      },
      "execution_count": 25,
      "outputs": [
        {
          "output_type": "execute_result",
          "data": {
            "text/plain": [
              "25.0"
            ]
          },
          "metadata": {},
          "execution_count": 25
        }
      ]
    },
    {
      "cell_type": "code",
      "source": [
        "p=20\n",
        "b=50\n",
        "t=10\n",
        "print(p/b*p)"
      ],
      "metadata": {
        "colab": {
          "base_uri": "https://localhost:8080/"
        },
        "id": "Ko8d9kTFjKLA",
        "outputId": "62fa5de4-9f39-42b4-b3df-1ad9eea5436a"
      },
      "execution_count": 26,
      "outputs": [
        {
          "output_type": "stream",
          "name": "stdout",
          "text": [
            "8.0\n"
          ]
        }
      ]
    },
    {
      "cell_type": "code",
      "source": [
        "20/1024*50"
      ],
      "metadata": {
        "colab": {
          "base_uri": "https://localhost:8080/"
        },
        "id": "PVsaSeTGj_3o",
        "outputId": "b629c2e3-60c7-433d-f307-cae6099f85ed"
      },
      "execution_count": 27,
      "outputs": [
        {
          "output_type": "execute_result",
          "data": {
            "text/plain": [
              "0.9765625"
            ]
          },
          "metadata": {},
          "execution_count": 27
        }
      ]
    },
    {
      "cell_type": "code",
      "source": [
        "20/100*19"
      ],
      "metadata": {
        "colab": {
          "base_uri": "https://localhost:8080/"
        },
        "id": "qpE-KccdkLiw",
        "outputId": "eedc3791-ea0f-4abf-e483-39566e4c87ff"
      },
      "execution_count": 30,
      "outputs": [
        {
          "output_type": "execute_result",
          "data": {
            "text/plain": [
              "3.8000000000000003"
            ]
          },
          "metadata": {},
          "execution_count": 30
        }
      ]
    },
    {
      "cell_type": "code",
      "source": [
        " a=10\n",
        " b=-20"
      ],
      "metadata": {
        "id": "0U5nDrwpkdxn"
      },
      "execution_count": 37,
      "outputs": []
    },
    {
      "cell_type": "code",
      "source": [
        "a>b"
      ],
      "metadata": {
        "colab": {
          "base_uri": "https://localhost:8080/"
        },
        "id": "hXE1s6r1mGyX",
        "outputId": "20ba8984-666e-45a7-ffa9-2bc53e99040e"
      },
      "execution_count": 38,
      "outputs": [
        {
          "output_type": "execute_result",
          "data": {
            "text/plain": [
              "True"
            ]
          },
          "metadata": {},
          "execution_count": 38
        }
      ]
    },
    {
      "cell_type": "code",
      "source": [
        "a<b"
      ],
      "metadata": {
        "colab": {
          "base_uri": "https://localhost:8080/"
        },
        "id": "MpyxJD5gmJ8H",
        "outputId": "cf8ec286-4af2-4095-d26c-6a324f9969da"
      },
      "execution_count": 39,
      "outputs": [
        {
          "output_type": "execute_result",
          "data": {
            "text/plain": [
              "False"
            ]
          },
          "metadata": {},
          "execution_count": 39
        }
      ]
    },
    {
      "cell_type": "code",
      "source": [
        "a==b"
      ],
      "metadata": {
        "colab": {
          "base_uri": "https://localhost:8080/"
        },
        "id": "EEke4eCmmL1W",
        "outputId": "f0f6a174-d863-4338-a8e8-890d5a84442e"
      },
      "execution_count": 40,
      "outputs": [
        {
          "output_type": "execute_result",
          "data": {
            "text/plain": [
              "False"
            ]
          },
          "metadata": {},
          "execution_count": 40
        }
      ]
    },
    {
      "cell_type": "code",
      "source": [
        "a!=b"
      ],
      "metadata": {
        "colab": {
          "base_uri": "https://localhost:8080/"
        },
        "id": "wLrWhbxlmOHm",
        "outputId": "5648aa7a-b052-403c-e136-abd875a5b80e"
      },
      "execution_count": 41,
      "outputs": [
        {
          "output_type": "execute_result",
          "data": {
            "text/plain": [
              "True"
            ]
          },
          "metadata": {},
          "execution_count": 41
        }
      ]
    },
    {
      "cell_type": "code",
      "source": [
        "a>=b"
      ],
      "metadata": {
        "colab": {
          "base_uri": "https://localhost:8080/"
        },
        "id": "Xa58DQYWmRHW",
        "outputId": "71542cd9-44db-438c-a0e7-7fcf083c9498"
      },
      "execution_count": 35,
      "outputs": [
        {
          "output_type": "execute_result",
          "data": {
            "text/plain": [
              "True"
            ]
          },
          "metadata": {},
          "execution_count": 35
        }
      ]
    },
    {
      "cell_type": "code",
      "source": [
        "a<=b"
      ],
      "metadata": {
        "colab": {
          "base_uri": "https://localhost:8080/"
        },
        "id": "NMcEB6OvmUK2",
        "outputId": "d75c63af-7dff-4040-f884-ec3cb21db5e4"
      },
      "execution_count": 36,
      "outputs": [
        {
          "output_type": "execute_result",
          "data": {
            "text/plain": [
              "False"
            ]
          },
          "metadata": {},
          "execution_count": 36
        }
      ]
    },
    {
      "cell_type": "code",
      "source": [
        "a=b"
      ],
      "metadata": {
        "id": "Rp-QGJ7lmdvw"
      },
      "execution_count": 43,
      "outputs": []
    },
    {
      "cell_type": "code",
      "source": [
        "a+b"
      ],
      "metadata": {
        "colab": {
          "base_uri": "https://localhost:8080/"
        },
        "id": "0OCD2mRSmzuP",
        "outputId": "56d8f96f-779f-4cee-f5b6-6ff1d2bd8615"
      },
      "execution_count": 44,
      "outputs": [
        {
          "output_type": "execute_result",
          "data": {
            "text/plain": [
              "-40"
            ]
          },
          "metadata": {},
          "execution_count": 44
        }
      ]
    },
    {
      "cell_type": "code",
      "source": [
        "a=float(input('enter the first number'))\n",
        "b=float(input('enter the second number'))\n",
        "print(b)\n",
        "b+=a\n",
        "print(b)\n",
        "b -= a\n",
        "print(b)\n",
        "b*=a\n",
        "\n",
        "\n",
        "\n"
      ],
      "metadata": {
        "colab": {
          "base_uri": "https://localhost:8080/"
        },
        "id": "2htfxlK_m3VW",
        "outputId": "d1876838-65d9-473e-f769-76f3d958328f"
      },
      "execution_count": 55,
      "outputs": [
        {
          "output_type": "stream",
          "name": "stdout",
          "text": [
            "enter the first number10\n",
            "enter the second number10\n",
            "10.0\n",
            "20.0\n",
            "10.0\n"
          ]
        }
      ]
    },
    {
      "cell_type": "code",
      "source": [
        "a=True\n",
        "b=False\n",
        "print(a and b)"
      ],
      "metadata": {
        "colab": {
          "base_uri": "https://localhost:8080/"
        },
        "id": "QWX9MG0unbj-",
        "outputId": "c2cb5115-a644-4cca-8ca0-e7848f539f06"
      },
      "execution_count": 46,
      "outputs": [
        {
          "output_type": "stream",
          "name": "stdout",
          "text": [
            "False\n"
          ]
        }
      ]
    },
    {
      "cell_type": "code",
      "source": [
        "a or b\n"
      ],
      "metadata": {
        "colab": {
          "base_uri": "https://localhost:8080/"
        },
        "id": "UqWGTnbVnm7u",
        "outputId": "ddaecfa9-c6c1-4689-fcd3-851f26c596a5"
      },
      "execution_count": 47,
      "outputs": [
        {
          "output_type": "execute_result",
          "data": {
            "text/plain": [
              "True"
            ]
          },
          "metadata": {},
          "execution_count": 47
        }
      ]
    },
    {
      "cell_type": "code",
      "source": [
        "not a\n"
      ],
      "metadata": {
        "colab": {
          "base_uri": "https://localhost:8080/"
        },
        "id": "tgnXC-9hnpN2",
        "outputId": "3f4a78b6-28a9-45f3-90c9-93f8c2136fa5"
      },
      "execution_count": 48,
      "outputs": [
        {
          "output_type": "execute_result",
          "data": {
            "text/plain": [
              "False"
            ]
          },
          "metadata": {},
          "execution_count": 48
        }
      ]
    },
    {
      "cell_type": "code",
      "source": [
        "a=10\n",
        "b=a\n",
        "\n",
        "b+=a"
      ],
      "metadata": {
        "id": "cMPwa-tontJu"
      },
      "execution_count": 70,
      "outputs": []
    },
    {
      "cell_type": "code",
      "source": [
        "\n",
        "b-=a\n"
      ],
      "metadata": {
        "id": "LaOI6i7PolWV"
      },
      "execution_count": 71,
      "outputs": []
    },
    {
      "cell_type": "code",
      "source": [
        "a=10\n",
        "b=20\n",
        "c=a\n",
        "print(a is not b)\n",
        "print(a is c)\n",
        "\n",
        "print(b is c)"
      ],
      "metadata": {
        "colab": {
          "base_uri": "https://localhost:8080/"
        },
        "id": "_Jy3_mfhpLPk",
        "outputId": "36de986e-f3e1-4003-b6d4-97fa8b6a6543"
      },
      "execution_count": 56,
      "outputs": [
        {
          "output_type": "stream",
          "name": "stdout",
          "text": [
            "True\n",
            "True\n",
            "False\n"
          ]
        }
      ]
    },
    {
      "cell_type": "code",
      "source": [
        "a=float(input('enter the first number'))\n",
        "b=float(input('enter the second number'))\n",
        "print(a is not b)\n",
        "print(a is c)\n",
        "\n",
        "print(b is c)\n",
        "\n"
      ],
      "metadata": {
        "colab": {
          "base_uri": "https://localhost:8080/"
        },
        "id": "U2vWsa-cpc-P",
        "outputId": "06ecb086-f33b-4068-e85a-0fcb3128e89a"
      },
      "execution_count": 58,
      "outputs": [
        {
          "output_type": "stream",
          "name": "stdout",
          "text": [
            "enter the first number10\n",
            "enter the second number20\n",
            "True\n",
            "False\n",
            "False\n"
          ]
        }
      ]
    },
    {
      "cell_type": "code",
      "source": [
        "x=10\n",
        "y=309908\n",
        "\n",
        "list=[10,20,30,40,50]\n",
        "if(x not in list):\n",
        "    print('x is not present in given list')\n",
        "else:\n",
        "    print('x is present in given list')\n",
        "if(y in list):\n",
        "    print('y is present in given list')\n",
        "else:\n",
        "    print('y is not present in given list')"
      ],
      "metadata": {
        "colab": {
          "base_uri": "https://localhost:8080/"
        },
        "id": "PBOo8OVyp06s",
        "outputId": "0ecd9522-0f69-4951-ac88-dfe3b65b7364"
      },
      "execution_count": 63,
      "outputs": [
        {
          "output_type": "stream",
          "name": "stdout",
          "text": [
            "x is present in given list\n",
            "y is not present in given list\n"
          ]
        }
      ]
    },
    {
      "cell_type": "code",
      "source": [
        "x=float(input('enter the first number'))\n",
        "y=float(input('enter the second number'))\n",
        "list=[10,20,30,40,50]\n",
        "if(x not in list):\n",
        "    print('x is not present in given list')\n",
        "else:\n",
        "    print('x is present in given list')\n",
        "if(y in list):\n",
        "    print('y is present in given list')\n",
        "else:\n",
        "    print('y is not present in given list')\n",
        ""
      ],
      "metadata": {
        "colab": {
          "base_uri": "https://localhost:8080/"
        },
        "id": "JmZ_-XvnrGxL",
        "outputId": "3c0705b5-d9a0-49c6-e2ef-bcae991a3736"
      },
      "execution_count": 64,
      "outputs": [
        {
          "output_type": "stream",
          "name": "stdout",
          "text": [
            "enter the first number99\n",
            "enter the second number33\n",
            "x is not present in given list\n",
            "y is not present in given list\n"
          ]
        }
      ]
    },
    {
      "cell_type": "code",
      "source": [
        "(1,2,3)+(4,5,6)"
      ],
      "metadata": {
        "colab": {
          "base_uri": "https://localhost:8080/"
        },
        "id": "uq6gWqfHrZeT",
        "outputId": "a1eeb5e4-bcaf-4464-e165-a89688986622"
      },
      "execution_count": 65,
      "outputs": [
        {
          "output_type": "execute_result",
          "data": {
            "text/plain": [
              "(1, 2, 3, 4, 5, 6)"
            ]
          },
          "metadata": {},
          "execution_count": 65
        }
      ]
    },
    {
      "cell_type": "code",
      "source": [
        "[1,2,3,4]+[5,6,7,8]\n"
      ],
      "metadata": {
        "colab": {
          "base_uri": "https://localhost:8080/"
        },
        "id": "ed-PQW6-r0qd",
        "outputId": "8b55593f-06a2-4e8b-cf49-d5b90352b59f"
      },
      "execution_count": 66,
      "outputs": [
        {
          "output_type": "execute_result",
          "data": {
            "text/plain": [
              "[1, 2, 3, 4, 5, 6, 7, 8]"
            ]
          },
          "metadata": {},
          "execution_count": 66
        }
      ]
    },
    {
      "cell_type": "code",
      "source": [
        "\"hello\"+\"\"+'world'"
      ],
      "metadata": {
        "colab": {
          "base_uri": "https://localhost:8080/",
          "height": 35
        },
        "id": "CKXO3cK7sXOV",
        "outputId": "3faf1e01-a1c9-42cb-c46f-9873f83ab585"
      },
      "execution_count": 67,
      "outputs": [
        {
          "output_type": "execute_result",
          "data": {
            "text/plain": [
              "'helloworld'"
            ],
            "application/vnd.google.colaboratory.intrinsic+json": {
              "type": "string"
            }
          },
          "metadata": {},
          "execution_count": 67
        }
      ]
    },
    {
      "cell_type": "code",
      "source": [
        "a=1"
      ],
      "metadata": {
        "id": "MjRSkhCCsn7i"
      },
      "execution_count": null,
      "outputs": []
    },
    {
      "cell_type": "markdown",
      "source": [
        "# intendation"
      ],
      "metadata": {
        "id": "Po9up4O8xnf2"
      }
    },
    {
      "cell_type": "code",
      "source": [
        "x=35\n",
        "if x>20:\n",
        "  print(\"above twenty,\")\n",
        "  if x>30:\n",
        "    print('and also above thirty')\n",
        "else:\n",
        "    print('but not above thirty')"
      ],
      "metadata": {
        "colab": {
          "base_uri": "https://localhost:8080/"
        },
        "id": "RurA-E9yw_lO",
        "outputId": "38fd8aca-8e22-4e3f-c8de-13ef91ee90f0"
      },
      "execution_count": 83,
      "outputs": [
        {
          "output_type": "stream",
          "name": "stdout",
          "text": [
            "above twenty,\n",
            "and also above thirty\n"
          ]
        }
      ]
    },
    {
      "cell_type": "code",
      "source": [
        "x=200\n",
        "y=33\n",
        "if x>y:\n",
        "  print(\"x is greater then y\")\n",
        "  if x==b:\n",
        "    print('x is equal to y')\n",
        "  else:\n",
        "    print('x is not equal to y')\n",
        "else:\n",
        "    print('y is greater then x')"
      ],
      "metadata": {
        "colab": {
          "base_uri": "https://localhost:8080/"
        },
        "id": "OffnNh9ByuxN",
        "outputId": "3762e8d2-0e2c-4c4b-f794-0536269c2adf"
      },
      "execution_count": 85,
      "outputs": [
        {
          "output_type": "stream",
          "name": "stdout",
          "text": [
            "x is greater then y\n",
            "x is not equal to y\n"
          ]
        }
      ]
    },
    {
      "cell_type": "code",
      "source": [
        "a=float(input('enter the first number'))\n",
        "b=float(input('enter the second number'))\n",
        "if b>a:\n",
        "  print(\"b is greater than a\")\n",
        "\n",
        "\n",
        "elif a==b:\n",
        "    print(\"a and b are equal\")\n",
        "else:\n",
        "  print(\"a is not greater than b\")\n"
      ],
      "metadata": {
        "colab": {
          "base_uri": "https://localhost:8080/"
        },
        "id": "ZkuZIqC50WmE",
        "outputId": "93146f40-08e9-4558-848e-9a101f3f1ba9"
      },
      "execution_count": 90,
      "outputs": [
        {
          "output_type": "stream",
          "name": "stdout",
          "text": [
            "enter the first number90\n",
            "enter the second number700\n",
            "b is greater than a\n"
          ]
        }
      ]
    },
    {
      "cell_type": "code",
      "source": [
        "w=int(input('enter your weight'))\n",
        "h=float(input('enter your height'))\n",
        "bmi=w/(h**2)\n",
        "if b<18.5:\n",
        "  print(\"underweight\")\n",
        "elif b<25:\n",
        "    print(\"normal\")\n",
        "\n",
        "elif b<30:\n",
        "    print(\"overweight\")\n",
        "else:\n",
        "    print(\"consult a doctor\")\n"
      ],
      "metadata": {
        "colab": {
          "base_uri": "https://localhost:8080/"
        },
        "id": "TJ38jXBhEBjf",
        "outputId": "64aed8ff-81d6-48b5-cdea-f78bbc602198"
      },
      "execution_count": 105,
      "outputs": [
        {
          "output_type": "stream",
          "name": "stdout",
          "text": [
            "enter your weight85\n",
            "enter your height1.9\n",
            "consult a doctor\n"
          ]
        }
      ]
    },
    {
      "cell_type": "code",
      "source": [],
      "metadata": {
        "id": "wIveMgxCJTQX"
      },
      "execution_count": null,
      "outputs": []
    }
  ]
}